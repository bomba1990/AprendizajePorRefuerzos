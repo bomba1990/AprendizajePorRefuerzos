{
 "cells": [
  {
   "cell_type": "markdown",
   "metadata": {},
   "source": [
    "# Notebook 1: Introducción al aprendizaje por refuerzos\n",
    "\n",
    "Curso Aprendizaje por Refuerzos, Diplomatura en Ciencia de Datos, Aprendizaje Automático y sus Aplicaciones\n",
    "\n",
    "FaMAF, 2019"
   ]
  },
  {
   "cell_type": "markdown",
   "metadata": {},
   "source": [
    "## Introducción\n",
    "\n",
    "En el siguiente notebook se muestra cómo ejecutar agentes de aprendizaje por refuerzos, los cuáles son necesarios para realizar este Lab."
   ]
  },
  {
   "cell_type": "markdown",
   "metadata": {},
   "source": [
    "## Librería usada: OpenAI Gym\n",
    "\n",
    "[OpenAI Gym](https://gym.openai.com/) (Brockman et al., 2016) es una librería de OpenAI que ofrece entornos y una interfaz estándar con la cuál probar nuestros agentes. Su objetivo es proveer benchmarks unificados para ver el desempeño de algoritmos en el entorno y así poder saber con facilidad cómo es su desempeño comparado con los demás. Parte de la siguiente sección está basada en la documentación oficial de OpenAI."
   ]
  },
  {
   "cell_type": "markdown",
   "metadata": {},
   "source": [
    "La interfaz principal de los ambientes de gym es la interfaz Env. La misma posee tres métodos principales (info. basada en la documentación oficial de Gym):\n",
    "\n",
    "\n",
    "    reset(self): Reinicia el estado del entorno, a su estado inicial, devolviendo una observación de dicho estado.\n",
    "    step(self, action): \"Avanza\" un timestep del ambiente. Devuelve: observation, reward, done, info.\n",
    "    render(self): Muestra en pantalla una parte del ambiente.\n",
    "    close(self): Finaliza con la instancia del agente.\n",
    "    seed(self): Establece la semilla aleatoria del generador de números aleatorios del presente entorno.\n",
    "\n",
    "\n",
    "Por otra parte, cada entorno posee los siguientes tres atributos principales:\n",
    "\n",
    "    action_space: El objeto de tipo Space correspondiente al espacio de acciones válidas.\n",
    "    observation_space: El objeto de tipo Space correspondiente a todos los rangos posibles de observaciones.\n",
    "    reward_range: Tupla que contiene los valores mínimo y máximo de recompensa posible."
   ]
  },
  {
   "cell_type": "markdown",
   "metadata": {},
   "source": [
    "Algunas de las ejecuciones contienen videos. Para poder verlos se necesita previamente instalar la librería ffmpeg. Para hacerlo desde Linux ejecutar en consola\n",
    "\n",
    "\tsudo apt-get install ffmpeg\n",
    "\n",
    "desde Windows descargarla desde\n",
    "\n",
    "[https://ffmpeg.zeranoe.com/builds/]()"
   ]
  },
  {
   "cell_type": "code",
   "execution_count": 2,
   "metadata": {},
   "outputs": [
    {
     "name": "stdout",
     "output_type": "stream",
     "text": [
      "Collecting gym\n",
      "\u001b[?25l  Downloading https://files.pythonhosted.org/packages/1d/85/a7a462d7796f097027d60f9a62b4e17a0a94dcf12ac2a9f9a913333b11a6/gym-0.15.4.tar.gz (1.6MB)\n",
      "\u001b[K     |████████████████████████████████| 1.6MB 1.9MB/s eta 0:00:01     |█████████████████████           | 1.0MB 1.9MB/s eta 0:00:01\n",
      "\u001b[?25hRequirement already satisfied: scipy in /home/mariano/.virtualenvs/scikit/lib/python3.6/site-packages (from gym) (1.2.1)\n",
      "Requirement already satisfied: numpy>=1.10.4 in /home/mariano/.virtualenvs/scikit/lib/python3.6/site-packages (from gym) (1.17.4)\n",
      "Requirement already satisfied: six in /home/mariano/.virtualenvs/scikit/lib/python3.6/site-packages (from gym) (1.12.0)\n",
      "Collecting pyglet<=1.3.2,>=1.2.0 (from gym)\n",
      "\u001b[?25l  Downloading https://files.pythonhosted.org/packages/1c/fc/dad5eaaab68f0c21e2f906a94ddb98175662cc5a654eee404d59554ce0fa/pyglet-1.3.2-py2.py3-none-any.whl (1.0MB)\n",
      "\u001b[K     |████████████████████████████████| 1.0MB 6.5MB/s eta 0:00:01\n",
      "\u001b[?25hRequirement already satisfied: cloudpickle~=1.2.0 in /home/mariano/.virtualenvs/scikit/lib/python3.6/site-packages (from gym) (1.2.2)\n",
      "Requirement already satisfied: opencv-python in /home/mariano/.virtualenvs/scikit/lib/python3.6/site-packages (from gym) (4.1.1.26)\n",
      "Collecting future (from pyglet<=1.3.2,>=1.2.0->gym)\n",
      "\u001b[?25l  Downloading https://files.pythonhosted.org/packages/45/0b/38b06fd9b92dc2b68d58b75f900e97884c45bedd2ff83203d933cf5851c9/future-0.18.2.tar.gz (829kB)\n",
      "\u001b[K     |████████████████████████████████| 829kB 4.5MB/s eta 0:00:01\n",
      "\u001b[?25hBuilding wheels for collected packages: gym, future\n",
      "  Building wheel for gym (setup.py) ... \u001b[?25ldone\n",
      "\u001b[?25h  Created wheel for gym: filename=gym-0.15.4-cp36-none-any.whl size=1649563 sha256=0c7672e55662dbd11feb8bd8ee3ba318e3bcd7405ef4da0b002c6f33a85cfa20\n",
      "  Stored in directory: /home/mariano/.cache/pip/wheels/e9/26/9b/8a1a6599a91077a938ac4348cc3d3ac84bfab0dbfddeb4c6e7\n",
      "  Building wheel for future (setup.py) ... \u001b[?25ldone\n",
      "\u001b[?25h  Created wheel for future: filename=future-0.18.2-cp36-none-any.whl size=493275 sha256=7dafb1c50ffda1fc20ce11e1d07144cefbdc656512ce88c8561387b9d0241b12\n",
      "  Stored in directory: /home/mariano/.cache/pip/wheels/8b/99/a0/81daf51dcd359a9377b110a8a886b3895921802d2fc1b2397e\n",
      "Successfully built gym future\n",
      "Installing collected packages: future, pyglet, gym\n",
      "Successfully installed future-0.18.2 gym-0.15.4 pyglet-1.3.2\n",
      "\u001b[33mWARNING: You are using pip version 19.2.3, however version 19.3.1 is available.\n",
      "You should consider upgrading via the 'pip install --upgrade pip' command.\u001b[0m\n"
     ]
    }
   ],
   "source": [
    "!pip install gym"
   ]
  },
  {
   "cell_type": "markdown",
   "metadata": {},
   "source": [
    "Ejemplo: agente CartPole"
   ]
  },
  {
   "cell_type": "code",
   "execution_count": 5,
   "metadata": {},
   "outputs": [],
   "source": [
    "import gym\n",
    "import time\n",
    "from IPython.display import clear_output\n",
    "\n",
    "env = gym.make('CartPole-v0')\n",
    "env.reset()\n",
    "for _ in range(500):\n",
    "    env.render(mode='human')\n",
    "    observation, reward, done, info = env.step(env.action_space.sample()) # se ejecuta una acción aleatoria\n",
    "    if done:\n",
    "        env.reset()\n",
    "env.close()\n"
   ]
  },
  {
   "cell_type": "markdown",
   "metadata": {},
   "source": [
    "Ejemplo: agente Mountain Car"
   ]
  },
  {
   "cell_type": "code",
   "execution_count": 6,
   "metadata": {},
   "outputs": [
    {
     "name": "stdout",
     "output_type": "stream",
     "text": [
      "Episode finished after 200 timesteps\n"
     ]
    }
   ],
   "source": [
    "env = gym.make('MountainCar-v0')\n",
    "observation = env.reset()\n",
    "for t in range(500):\n",
    "    env.render(mode='human')\n",
    "    action = env.action_space.sample()\n",
    "    observation, reward, done, info = env.step(action)\n",
    "    if done:\n",
    "        print(\"Episode finished after {} timesteps\".format(t+1))\n",
    "        break\n",
    "env.close()"
   ]
  },
  {
   "cell_type": "markdown",
   "metadata": {},
   "source": [
    "## Ejemplo 1: The Cliff. \n"
   ]
  },
  {
   "cell_type": "markdown",
   "metadata": {},
   "source": [
    "![](images/cliffwalking.png)\n",
    "\n",
    "donde S= starting point, G= goal\n",
    "\n",
    "(imagen de Sutton y Barto, 2018)"
   ]
  },
  {
   "cell_type": "markdown",
   "metadata": {},
   "source": [
    "Descripción del entorno:\n",
    "\n",
    "Acciones:\n",
    "\n",
    "* ^ - Arriba\n",
    "* v - Abajo\n",
    "* \\> - Derecha\n",
    "* < - Izquierda\n",
    "\n",
    "Función de recompensa:\n",
    "\n",
    "* $-1$ en todos los demás estados \n",
    "* $-100$ en el acantilado\n",
    "\n",
    "Nota: caer en el acantilado devuelve al agente al estado inicial en un mismo episodio"
   ]
  },
  {
   "cell_type": "markdown",
   "metadata": {},
   "source": [
    "Vemos los bloques básicos de nuestro agente"
   ]
  },
  {
   "cell_type": "markdown",
   "metadata": {},
   "source": [
    "Primero, importamos:"
   ]
  },
  {
   "cell_type": "code",
   "execution_count": 2,
   "metadata": {},
   "outputs": [],
   "source": [
    "import matplotlib.pyplot as plt\n",
    "import itertools\n",
    "import gym\n",
    "import numpy as np\n",
    "from agents.utils.plotting import plot_reward_per_episode, plot_steps_per_episode, plot_steps_per_episode_smooth, draw_value_matrix"
   ]
  },
  {
   "cell_type": "markdown",
   "metadata": {},
   "source": [
    "Definimos el método de elección de acciones. En este caso el mismo utiliza la política de exploración $\\epsilon$-greedy."
   ]
  },
  {
   "cell_type": "code",
   "execution_count": 3,
   "metadata": {},
   "outputs": [],
   "source": [
    "def choose_action(state):\n",
    "    \"\"\"\n",
    "    Chooses an action according to the learning previously performed \n",
    "    using an epsilon-greedy exploration policy\n",
    "    \"\"\"\n",
    "    q_values = [q.get((state, a), 0.0) for a in actions]\n",
    "    max_q = max(q_values)\n",
    "\n",
    "    if random_state.uniform() < epsilon:\n",
    "        return random_state.choice(actions)  # a random action is selected\n",
    "\n",
    "    count = q_values.count(max_q)\n",
    "\n",
    "    # In case there're several state-action max values\n",
    "    # we select a random one among them\n",
    "    if count > 1:\n",
    "        best = [i for i in range(len(actions)) if q_values[i] == max_q]\n",
    "        i = random_state.choice(best)\n",
    "    else:\n",
    "        i = q_values.index(max_q)\n",
    "\n",
    "    return actions[i]"
   ]
  },
  {
   "cell_type": "markdown",
   "metadata": {},
   "source": [
    "Definimos el esqueleto del método learn, el cuál toma una transición y cambia el dict de los valores de Q de acuerdo a algún algoritmo."
   ]
  },
  {
   "cell_type": "code",
   "execution_count": 4,
   "metadata": {},
   "outputs": [],
   "source": [
    "def sarsa_learn(state, action, reward, next_state, next_action):\n",
    "    \"\"\"\n",
    "    Performs a SARSA update for a given state transition\n",
    "    \"\"\"\n",
    "    predict = q.get((state, action), 0.0)\n",
    "    target = reward + gamma * q.get((next_state, next_action), 0.0)\n",
    "    q[state, action] =q.get((state, action), 0.0) + alpha * (target - predict) "
   ]
  },
  {
   "cell_type": "markdown",
   "metadata": {},
   "source": [
    "Finalmente, definimos el método principal de iteraciones. "
   ]
  },
  {
   "cell_type": "code",
   "execution_count": 5,
   "metadata": {},
   "outputs": [],
   "source": [
    "def run():\n",
    "    \"\"\"\n",
    "    Runs the reinforcement learning agent with a given configuration.\n",
    "    \"\"\"\n",
    "    # list that contains the amount of time-steps of the episode. It is used as a way to score the performance of\n",
    "    # the agent.\n",
    "    timesteps_of_episode = []\n",
    "    # list that contains the amount of reward given to the agent in each episode\n",
    "    reward_of_episode = []\n",
    "\n",
    "    for i_episode in range(episodes_to_run):\n",
    "        # an instance of an episode is run until it fails or until it reaches 200 time-steps\n",
    "\n",
    "        # resets the environment, obtaining the first state observation\n",
    "        state = env.reset()\n",
    "\n",
    "        episode_reward = 0\n",
    "        done = False\n",
    "        t = 0\n",
    "\n",
    "        # Pick an action based on the current state\n",
    "        action = choose_action(state)\n",
    "        \n",
    "        while not done:\n",
    "\n",
    "            # Execute the action and get feedback\n",
    "            next_state, reward, done, info = env.step(action)\n",
    "            \n",
    "            next_action = choose_action(next_state)\n",
    "            \n",
    "\n",
    "            episode_reward += reward\n",
    "\n",
    "            if not done and t < 2000:  # if the algorithm does not converge, it stops after 2000 timesteps\n",
    "                learn(state, action, reward, next_state, next_action)\n",
    "                state = next_state\n",
    "                action = next_action\n",
    "            else:\n",
    "                done = True  # done is ensured to be True (in the case the algorithm did not reach convergence)\n",
    "                learn(state, action, reward, next_state, next_action)\n",
    "                timesteps_of_episode = np.append(timesteps_of_episode, [int(t + 1)])\n",
    "                reward_of_episode = np.append(reward_of_episode, max(episode_reward, -100))\n",
    "\n",
    "            t += 1\n",
    "\n",
    "    return reward_of_episode.mean(), timesteps_of_episode, reward_of_episode"
   ]
  },
  {
   "cell_type": "markdown",
   "metadata": {},
   "source": [
    "Definidos los métodos básicos, procedemos a instanciar a nuestro agente."
   ]
  },
  {
   "cell_type": "code",
   "execution_count": 211,
   "metadata": {},
   "outputs": [],
   "source": [
    "q = {}\n",
    "\n",
    "# definimos sus híper-parámetros básicos\n",
    "\n",
    "alpha = 0.5\n",
    "gamma = 10\n",
    "epsilon = 0.1\n",
    "tau = 1\n",
    "learn = sarsa_learn\n",
    "\n",
    "episodes_to_run = 1000\n",
    "\n",
    "env = gym.make(\"CliffWalking-v0\")\n",
    "actions = range(env.action_space.n)\n",
    "\n",
    "# se declara una semilla aleatoria\n",
    "random_state = np.random.RandomState(42)"
   ]
  },
  {
   "cell_type": "markdown",
   "metadata": {},
   "source": [
    "Ya instanciado, ejecutamos nuestro agente"
   ]
  },
  {
   "cell_type": "code",
   "execution_count": 212,
   "metadata": {},
   "outputs": [],
   "source": [
    "avg_steps_per_episode, timesteps_ep, reward_ep = run()"
   ]
  },
  {
   "cell_type": "markdown",
   "metadata": {},
   "source": [
    "### Análisis de la ejecución del agente\n",
    "\n",
    "#### Análisis de convergencia\n",
    "\n",
    "A diferencia de lo que sucede en el aprendizaje supervisado, en el aprendizaje por refuerzos el rendimiento se evalúa por una función específica que es la función de recompensa. En la práctica, la función de recompensa puede ser externa (y provista por el entorno) o bien puede ser una función creada por diseño (a modo de dirigir el agente hacia lo que por diseño se considera mejor, en nuestro ejemplo podría ser con una recompensa de $+1$ cada vez que el agente llega al estado objetivo). Esto se conoce como *reward shaping*, y hay que tener mucho cuidado con los posibles efectos secundarios de su uso.\n",
    "\n",
    "Como el objetivo de RL es maximizar la recompensa obtenida, es posible utilizar la información sobre la obtención de la recompensas en cada time-step o episodio para evaluar el rendimiento parcial del agente (esto depende mucho de la particularidad de la distribución de la recompensa para el problema tratado)."
   ]
  },
  {
   "cell_type": "markdown",
   "metadata": {},
   "source": [
    "Para analizar la ejecución del agente, vamos a ver cómo se desempeñó el mismo en dos curvas:\n",
    "\n",
    "* Recompensa obtenida en cada episodio: nos dirá cuánta recompensa obtuvo el agente sumando cada una de recompensas individuales de cada episodio. Con esta medida podremos tener una noción de cómo se desempeñó esquivando el acantilado y llegando lo antes posible a la meta.\n",
    "\n",
    "* Pasos transcurridos en cada episodio: indicará cuántos pasos le ha llevado al agente la ejecución del episodio.\n",
    "\n",
    "Se estila suavizar ambas curvas para apreciar mejor su progresión (aunque a veces suele analizarse la curva de pasos por episodio sin suavizar)."
   ]
  },
  {
   "cell_type": "markdown",
   "metadata": {},
   "source": [
    "Veamos recompensa por episodio (recordar que en este entorno cada paso otorga una recompensa de $-1$ excepto al caer al acantilado, donde la recompensa es de $-100$)"
   ]
  },
  {
   "cell_type": "code",
   "execution_count": 213,
   "metadata": {},
   "outputs": [
    {
     "data": {
      "image/png": "[encoded data removed]",
      "text/plain": [
       "<Figure size 432x288 with 1 Axes>"
      ]
     },
     "metadata": {
      "needs_background": "light"
     },
     "output_type": "display_data"
    }
   ],
   "source": [
    "plot_reward_per_episode(reward_ep)"
   ]
  },
  {
   "cell_type": "markdown",
   "metadata": {},
   "source": [
    "Veamos pasos por episodio"
   ]
  },
  {
   "cell_type": "code",
   "execution_count": 214,
   "metadata": {},
   "outputs": [
    {
     "data": {
      "image/png": "[encoded data removed]",
      "text/plain": [
       "<Figure size 432x288 with 1 Axes>"
      ]
     },
     "metadata": {
      "needs_background": "light"
     },
     "output_type": "display_data"
    }
   ],
   "source": [
    "plot_steps_per_episode(timesteps_ep)"
   ]
  },
  {
   "cell_type": "code",
   "execution_count": 215,
   "metadata": {},
   "outputs": [
    {
     "data": {
      "text/plain": [
       "array([ 561.,   29.,   69.,   54.,  115.,  244.,   49.,   51.,   27.,\n",
       "         34.,   42.,   52.,   27.,   45.,   58.,   90.,   54.,   23.,\n",
       "         35.,   25.,   35.,   62.,   20.,   72.,   29.,   33.,   47.,\n",
       "         40.,   77.,   19.,   33.,   19.,   19.,   17.,   51.,   48.,\n",
       "         30.,   28.,   51.,   27.,   20.,   24.,   22.,   20.,   28.,\n",
       "         20.,   47.,   36.,   31.,   23.,   46.,   35.,   31.,   23.,\n",
       "         20.,   17.,   21.,   22.,   61.,   25.,   25.,   23.,   17.,\n",
       "         19.,   26.,   28.,   25.,   21.,   27.,   25.,   31.,   27.,\n",
       "         30.,   17.,   20.,   15.,   15.,   19.,   35.,   19.,   17.,\n",
       "         15.,   36.,   21.,   16.,   15.,   15.,   17.,   35.,   19.,\n",
       "         32.,   22.,   27.,   30.,   31.,   27.,   20.,   54.,   25.,\n",
       "         19.,   23.,   35.,   19.,   22.,   23.,   21.,   21.,   35.,\n",
       "         22.,   31.,   19.,   29.,   17.,   17.,   17.,   21.,   17.,\n",
       "         26.,   24.,   25.,   19.,   19.,   18.,   37.,   17.,   45.,\n",
       "         25.,   21.,   29.,   23.,   24.,   37.,   21.,   22.,   29.,\n",
       "         21.,   49.,   35.,   19.,   34.,   19.,   17.,   17.,   18.,\n",
       "         19.,   25.,   18.,   21.,   28.,   24.,   17.,   21.,   26.,\n",
       "         20.,   41.,   34.,   17.,   30.,   23.,   19.,   25.,   22.,\n",
       "         17.,   17.,   17.,   28.,   22.,   28.,   27.,   17.,   19.,\n",
       "         19.,   19.,   21.,   19.,   18.,   19.,   82.,   18.,   21.,\n",
       "         17.,   16.,   17.,   20.,   24.,   18.,   21.,   25.,   19.,\n",
       "         27.,   23.,   18.,   19.,   18.,   20.,   17.,   23.,   20.,\n",
       "         19.,   18.,   41.,   19.,   17.,   32.,   21.,   17.,   27.,\n",
       "         26.,   29.,   30.,   30.,   39.,   27.,   34.,   27.,   23.,\n",
       "         19.,   29.,   17.,   21.,   22.,   21.,   21.,   25.,   21.,\n",
       "         25.,   23.,   20.,   21.,   25.,   20.,   27.,   23.,   21.,\n",
       "         22.,   20.,   40.,   19.,   20.,   17.,   17.,   19.,   17.,\n",
       "         49.,   22.,   20.,   39.,   19.,   31.,   25.,   17.,   20.,\n",
       "         19.,   19.,   19.,   25.,   20.,   19.,   23.,   20.,   29.,\n",
       "         19.,   17.,   19.,   24.,   27.,   21.,   20.,   20.,   22.,\n",
       "         21.,   18.,   18.,   22.,   17.,   17.,   17.,   18.,   17.,\n",
       "         18.,   17.,   17.,   17.,   20.,   17.,   19.,   23.,   30.,\n",
       "         24.,   23.,   19.,   32.,   21.,   19.,   18.,   17.,   18.,\n",
       "         17.,   25.,   17.,   17.,   30.,   21.,   22.,   21.,   17.,\n",
       "         17.,   20.,   18.,   21.,   17.,   20.,   19.,   18.,   17.,\n",
       "         24.,   27.,   23.,   24.,   20.,   25.,   25.,   34.,   23.,\n",
       "         18.,   32.,   19.,   17.,   28.,   21.,   25.,   19.,   19.,\n",
       "         24.,   21.,   21.,   23.,   24.,   36.,   27.,   29.,   31.,\n",
       "         25.,   31.,   22.,   22.,   22.,   19.,   26.,   17.,   17.,\n",
       "         20.,   19.,   32.,   19.,   18.,   19.,   42.,   27.,   17.,\n",
       "         18.,   17.,   33.,   21.,   42.,   28.,   37.,   24.,   23.,\n",
       "         19.,   19.,   20.,   18.,   17.,   19.,   17.,   18.,   20.,\n",
       "         19.,   19.,   35.,   27.,   19.,   19.,   21.,   21.,   23.,\n",
       "         23.,   26.,   20.,   34.,   25.,   20.,   19.,   29.,   20.,\n",
       "         26.,   17.,   18.,   19.,   17.,   17.,   21.,   21.,   19.,\n",
       "         21.,   28.,   17.,   19.,   19.,   18.,   20.,   19.,   19.,\n",
       "         21.,   19.,   24.,   19.,   21.,   21.,   32.,   57.,   19.,\n",
       "         17.,   35.,   27.,   17.,   20.,   23.,   19.,   23.,   20.,\n",
       "         21.,   36.,   29.,   23.,   28.,   23.,   28.,   25.,   18.,\n",
       "         32.,   20.,   17.,   25.,   19.,   20.,   17.,   18.,   20.,\n",
       "         25.,   19.,   17.,   23.,   33.,   32.,   29.,   16.,   19.,\n",
       "         21.,   17.,   17.,   16.,   22.,   19.,   15.,   26.,   21.,\n",
       "         19.,   27.,   25.,   15.,   19.,   21.,   17.,   26.,   27.,\n",
       "         19.,   23.,   21.,   25.,   20.,   25.,   25.,   17.,   19.,\n",
       "         30.,   31.,   17.,   26.,   25.,   18.,   24.,   19.,   20.,\n",
       "         29.,   46.,   31.,   20.,   21.,   17.,   17.,   18.,   17.,\n",
       "         31.,   28.,   25.,   21.,   23.,   44.,   32.,   17.,   17.,\n",
       "         17.,   26.,   33.,   25.,   19.,   17.,   17.,   17.,   17.,\n",
       "         21.,   29.,   18.,   15.,   19.,   21.,   24.,   18.,   17.,\n",
       "         17.,   23.,   17.,   19.,   20.,   22.,   23.,   17.,   19.,\n",
       "         23.,   27.,   21.,   24.,   34.,   21.,   29.,   17.,   24.,\n",
       "         29.,   15.,   21.,   22.,   17.,   19.,   17.,   19.,   21.,\n",
       "         75.,   27.,   24.,   24.,   24.,   25.,   25.,   27.,   28.,\n",
       "         25.,   23.,   19.,   31.,   17.,   23.,   23.,   59.,   17.,\n",
       "         19.,   19.,   17.,   21.,   17.,   19.,   17.,   25.,   24.,\n",
       "         27.,   23.,   21.,   31.,   18.,   17.,   19.,   20.,   17.,\n",
       "         18.,   21.,   39.,  115.,   27.,   25.,   17.,   19.,   18.,\n",
       "         25.,   17.,   61.,   55.,   21.,   21.,   25.,   29.,   21.,\n",
       "         17.,   21.,   19.,   19.,   17.,   17.,   19.,   18.,   17.,\n",
       "         19.,   17.,   18.,   29.,   30.,  192., 1017.,   59.,   71.,\n",
       "         35.,   68.,   21.,  118.,   30.,   44.,   27.,   29.,   25.,\n",
       "         28.,   31.,   25.,   36.,   22.,   36.,   17.,   20.,   23.,\n",
       "         20.,   35.,   24.,   21.,   18.,   28.,   59.,   15.,   15.,\n",
       "         18.,   25.,   25.,   18.,   17.,   19.,   21.,   18.,   25.,\n",
       "         17.,   18.,   17.,   17.,   20.,   17.,   19.,   19.,   25.,\n",
       "         17.,   21.,   32.,   49.,   28.,   39.,   19.,   30.,   29.,\n",
       "         50.,   25.,   29.,   26.,   22.,   21.,   23.,   23.,   20.,\n",
       "         25.,   20.,   25.,   29.,   17.,   35.,   21.,   35.,   17.,\n",
       "         17.,   25.,   28.,   19.,   28.,   17.,   17.,   15.,   17.,\n",
       "         23.,   21.,   19.,   16.,   18.,   15.,   44.,   19.,   27.,\n",
       "         15.,   19.,   26.,   17.,   23.,   17.,   17.,   19.,   23.,\n",
       "         21.,   49.,   25.,   27.,   25.,   19.,   19.,   33.,   31.,\n",
       "         17.,   21.,   17.,   25.,   19.,   26.,   21.,   27.,   21.,\n",
       "         21.,   17.,   25.,   18.,   18.,   19.,   19.,   21.,   21.,\n",
       "         19.,   17.,   22.,   18.,   17.,   24.,   18.,   17.,   21.,\n",
       "         30.,   24.,   28.,   21.,   26.,   28.,   19.,   17.,   21.,\n",
       "         25.,   17.,   17.,   19.,   20.,   17.,   21.,   23.,   33.,\n",
       "         28.,   27.,   33.,   55.,   31.,   21.,   23.,   56.,   42.,\n",
       "         27.,   35.,   19.,   23.,   23.,   24.,   31.,   23.,   23.,\n",
       "         27.,   23.,   78.,   62.,   17.,   17.,   25.,   32.,   19.,\n",
       "         17.,   19.,   18.,   56.,   22.,   22.,   19.,   17.,   20.,\n",
       "         17.,   21.,   15.,   20.,   21.,   17.,   15.,   15.,   17.,\n",
       "         17.,   15.,   37.,   23.,   25.,   21.,   21.,   17.,   31.,\n",
       "         26.,   29.,   38.,   31.,   25.,   24.,   17.,   23.,   19.,\n",
       "         22.,   30.,   19.,   27.,   38.,   42.,   41.,   19.,   45.,\n",
       "         48.,   42.,   19.,   25.,   37.,   43.,   30.,   25.,   24.,\n",
       "         19.,   30.,   17.,   21.,   17.,   21.,   21.,   17.,   19.,\n",
       "         17.,   17.,   18.,   17.,   22.,   27.,   23.,   18.,   19.,\n",
       "         17.,   17.,   24.,   38.,   19.,   18.,   20.,   28.,   38.,\n",
       "         25.,   17.,   27.,   24.,   17.,   28.,   18.,   29.,   17.,\n",
       "         20.,   18.,   17.,   17.,   19.,   17.,   17.,  117.,   40.,\n",
       "         20.,   20.,   17.,   32.,   29.,   19.,   17.,   17.,   21.,\n",
       "         19.,   38.,   25.,   18.,   25.,   69.,   29.,   21.,   28.,\n",
       "         26.,   23.,   19.,   21.,   20.,   19.,   17.,   18.,   19.,\n",
       "         17.,   17.,   17.,   18.,   19.,   20.,   21.,   19.,   19.,\n",
       "         23.,   27.,   28.,   31.,   19.,   31.,   17.,   68.,  440.,\n",
       "         23.,   26.,   26.,   23.,   29.,   27.,   22.,   23.,   17.,\n",
       "         17.,   21.,   21.,   21.,   19.,   21.,   15.,   37.,   25.,\n",
       "         21.,   25.,   21.,   19.,   19.,   28.,   19.,   23.,   17.,\n",
       "         17.,   18.,   19.,   17.,   21.,   22.,   19.,   19.,   21.,\n",
       "         19.,   19.,   19.,   18.,   35.,   76.,   23.,   17.,   20.,\n",
       "         27.])"
      ]
     },
     "execution_count": 215,
     "metadata": {},
     "output_type": "execute_result"
    }
   ],
   "source": [
    "timesteps_ep"
   ]
  },
  {
   "cell_type": "markdown",
   "metadata": {},
   "source": [
    "Suavizando..."
   ]
  },
  {
   "cell_type": "code",
   "execution_count": 216,
   "metadata": {},
   "outputs": [
    {
     "data": {
      "image/png": "[encoded data removed]",
      "text/plain": [
       "<Figure size 432x288 with 1 Axes>"
      ]
     },
     "metadata": {
      "needs_background": "light"
     },
     "output_type": "display_data"
    }
   ],
   "source": [
    "plot_steps_per_episode_smooth(timesteps_ep)"
   ]
  },
  {
   "cell_type": "markdown",
   "metadata": {},
   "source": [
    "#### Análisis de matriz de acción-valor y política óptima\n",
    "\n",
    "Siendo que este es un ejemplo tabular y de pocos estados / acciones, es posible realizar un análisis de convergencia desde otro punto de vista: desde el valor de la función $Q(s,a)$ para la mejor acción de cada estado, al finalizar el entrenamiento del agente, (sería la acción que el agente ejecutaría en cada estado bajo una política *greedy*). Ambos nos brindarán información sobre la convergencia alcanzada por el agente.\n",
    "\n",
    "Tener en cuenta que este análisis se hace principalmente con fines educativos, para entornos más complejos el mismo puede no ser factible. En tales casos, un análisis alternativo podría consistir en hacer que el agente ejecute su política para la que fue entrenado, para hacer una evaluación a partir del comportamiento del mismo (esto último sería el *test de la política*, frente al *entrenamiento de la política* previo)."
   ]
  },
  {
   "cell_type": "code",
   "execution_count": 217,
   "metadata": {},
   "outputs": [
    {
     "data": {
      "image/png": "[encoded data removed]",
      "text/plain": [
       "<Figure size 432x288 with 2 Axes>"
      ]
     },
     "metadata": {
      "needs_background": "light"
     },
     "output_type": "display_data"
    },
    {
     "name": "stdout",
     "output_type": "stream",
     "text": [
      "\n",
      " Matriz de mejor acción-valor (en números): \n",
      "\n",
      " [[-2.84461287e+60 -1.09224266e+59 -7.85115194e+57 -3.81728125e+56\n",
      "  -1.22646181e+55 -4.75976193e+53 -3.07849552e+52 -6.56294877e+51\n",
      "  -2.19039685e+50 -4.57552356e+49 -1.43554887e+49 -7.12297483e+48]\n",
      " [-1.79594930e+62 -1.14722925e+61 -6.91541759e+57 -3.57700217e+56\n",
      "  -3.83542260e+56 -2.09636928e+54 -7.51267305e+50 -6.62159706e+49\n",
      "  -9.61062944e+49 -1.90545705e+49 -4.51351933e+48 -1.90289440e+47]\n",
      " [-8.49978831e+63 -2.17122079e+62 -1.38597769e+58 -1.42210030e+57\n",
      "  -2.97100678e+56 -1.09585214e+52 -5.78578324e+51 -5.61630629e+50\n",
      "  -3.36895089e+51 -3.34163981e+49 -9.46912308e+46 -1.00000000e+00]\n",
      " [-1.28798875e+71 -1.00000000e+02 -1.00000000e+02 -1.00000000e+02\n",
      "  -1.00000000e+02 -1.00000000e+02 -1.00000000e+02 -1.00000000e+02\n",
      "  -1.00000000e+02 -1.00000000e+02 -1.00000000e+02 -1.00000000e+00]]\n"
     ]
    }
   ],
   "source": [
    "draw_value_matrix(q)"
   ]
  },
  {
   "cell_type": "code",
   "execution_count": 187,
   "metadata": {},
   "outputs": [],
   "source": [
    "env.close()"
   ]
  },
  {
   "cell_type": "markdown",
   "metadata": {},
   "source": [
    "## Actividades\n",
    "\n",
    "1. Implementar y ejecutar el algoritmo SARSA en \"The Cliff\".\n",
    "\n",
    "2. Implementar y ejecutar el algoritmo Q-Learning en \"The Cliff\". ¿Cómo converge con respecto a SARSA? ¿A qué se debe? Comentar.\n",
    "\n",
    "3. Ejecutando con distintos híper-parámetros, realizar una breve descripción sobre cómo afectan a la convergencia los distintos valores de $\\alpha$, $\\epsilon$ y $\\gamma$.\n",
    "\n",
    "4. (Opcional) Implementar política de exploración Softmax, en donde cada acción tiene una probabilidad $$\\pi(a \\mid s) = \\frac{e^{Q(s,a)/\\tau}}{\\sum_{\\dot{a} \\in A}e^{Q(s,\\dot{a})/\\tau}}$$\n",
    "\n",
    "\n",
    "\n",
    "Para dejar el lab listo para su corrección, dejar link a repo de github con un notebook ejecutando el agente en la planilla enviada en Slack."
   ]
  },
  {
   "cell_type": "markdown",
   "metadata": {},
   "source": [
    "***Implementar y ejecutar el algoritmo Q-Learning en \"The Cliff\". ¿Cómo converge con respecto a SARSA? ¿A qué se debe? Comentar.***\n",
    "\n",
    "\n",
    "A mi forma de ver  Q-Learning tiende a converger un poco más lento y le cuesta más lelgar a la solución final, pero tiene la capacida de tratar seguir aprendiendo despues de haber llegado a un resultado final. Es un algoritmo que se arriesga más.  "
   ]
  },
  {
   "cell_type": "code",
   "execution_count": 74,
   "metadata": {},
   "outputs": [],
   "source": [
    "def q_learn(state, action, reward, next_state, next_action):\n",
    "    \"\"\"\n",
    "    Performs a SARSA update for a given state transition\n",
    "    \"\"\"\n",
    "    predict = q.get((state, action), 0.0)\n",
    "    target = reward + gamma * q.get((next_state, np.argmax(q.get(next_state)  )), 0.0)\n",
    "    q[state, action] =q.get((state, action), 0.0) + alpha * (target - predict) "
   ]
  },
  {
   "cell_type": "code",
   "execution_count": 78,
   "metadata": {},
   "outputs": [],
   "source": [
    "q = {}\n",
    "\n",
    "# definimos sus híper-parámetros básicos\n",
    "\n",
    "alpha = 0.5\n",
    "gamma = 1\n",
    "epsilon = 0.1\n",
    "tau = 25\n",
    "learn = q_learn\n",
    "\n",
    "episodes_to_run = 1000\n",
    "\n",
    "env = gym.make(\"CliffWalking-v0\")\n",
    "actions = range(env.action_space.n)\n",
    "\n",
    "avg_steps_per_episode, timesteps_ep, reward_ep = run()"
   ]
  },
  {
   "cell_type": "code",
   "execution_count": 79,
   "metadata": {},
   "outputs": [
    {
     "data": {
      "image/png": "[encoded data removed]",
      "text/plain": [
       "<Figure size 432x288 with 1 Axes>"
      ]
     },
     "metadata": {
      "needs_background": "light"
     },
     "output_type": "display_data"
    }
   ],
   "source": [
    "plot_reward_per_episode(reward_ep)"
   ]
  },
  {
   "cell_type": "code",
   "execution_count": 80,
   "metadata": {},
   "outputs": [
    {
     "data": {
      "image/png": "[encoded data removed]",
      "text/plain": [
       "<Figure size 432x288 with 1 Axes>"
      ]
     },
     "metadata": {
      "needs_background": "light"
     },
     "output_type": "display_data"
    }
   ],
   "source": [
    "plot_steps_per_episode(timesteps_ep)"
   ]
  },
  {
   "cell_type": "code",
   "execution_count": 81,
   "metadata": {},
   "outputs": [
    {
     "data": {
      "image/png": "[encoded data removed]",
      "text/plain": [
       "<Figure size 432x288 with 1 Axes>"
      ]
     },
     "metadata": {
      "needs_background": "light"
     },
     "output_type": "display_data"
    }
   ],
   "source": [
    "plot_steps_per_episode_smooth(timesteps_ep)"
   ]
  },
  {
   "cell_type": "code",
   "execution_count": 83,
   "metadata": {},
   "outputs": [
    {
     "data": {
      "text/plain": [
       "array([253., 439.,  45.,  53., 141.,  56.,  24., 126.,  57.,  63.,  84.,\n",
       "        77.,  92.,  81.,  70.,  61.,  87.,  61.,  13.,  49.,  31.,  26.,\n",
       "        50.,  76.,  29.,  51.,  19.,  57.,  15.,  54.,  35.,  53.,  17.,\n",
       "        19.,  30.,  36.,  33.,  23.,  37.,  19.,  24.,  47.,  17.,  27.,\n",
       "        21.,  16.,  29.,  23.,  17.,  18.,  31.,  17.,  19.,  20.,  25.,\n",
       "        25.,  35.,  29.,  25.,  17.,  17.,  23.,  21.,  19.,  19.,  24.,\n",
       "        19.,  21.,  13.,  25.,  22.,  23.,  15.,  19.,  15.,  22.,  22.,\n",
       "        15.,  15.,  17.,  21.,  27.,  19.,  13.,  17.,  27.,  27.,  28.,\n",
       "        16.,  21.,  22.,  15.,  13.,  20.,  34.,  40.,  19.,  23.,  17.,\n",
       "        34.,  23.,  19.,  15.,  17.,  21.,  24.,  15.,  22.,  24.,  28.,\n",
       "        27.,  23.,  29.,  41.,  27.,  13.,  21.,  24.,  15.,  21.,  13.,\n",
       "        16.,  44.,  15.,  22.,  31.,  13.,  26.,  15.,  16.,  22.,  13.,\n",
       "        13.,  17.,  18.,  23.,  18.,  23.,  15.,  33.,  19.,  39.,  15.,\n",
       "        15.,  19.,  23.,  17.,  13.,  21.,  13.,  26.,  18.,  16.,  25.,\n",
       "        16.,  23.,  20.,  13.,  17.,  17.,  23.,  32.,  15.,  33.,  16.,\n",
       "        19.,  45.,  27.,  13.,  15.,  19.,  15.,  13.,  25.,  13.,  27.,\n",
       "        15.,  31.,  17.,  21.,  20.,  17.,  19.,  13.,  33.,  33.,  13.,\n",
       "        21.,  13.,  29.,  39.,  25.,  26.,  27.,  21.,  23.,  17.,  21.,\n",
       "        17.,  31.,  36.,  25.,  46.,  27.,  31.,  19.,  21.,  17.,  33.,\n",
       "        13.,  26.,  26.,  24.,  51.,  23.,  27.,  17.,  19.,  23.,  13.,\n",
       "        33.,  17.,  18.,  71.,  32.,  15.,  34.,  25.,  25.,  25.,  31.,\n",
       "        17.,  19.,  37.,  17.,  13.,  17.,  23.,  13.,  22.,  14.,  26.,\n",
       "        30.,  17.,  15.,  28.,  23.,  31.,  19.,  26.,  26.,  21.,  32.,\n",
       "        44.,  18.,  31.,  52.,  28.,  24.,  44.,  15.,  43.,  21.,  19.,\n",
       "        30.,  19.,  33.,  16.,  27.,  51.,  26.,  24.,  31.,  73.,  23.,\n",
       "        21.,  60.,  75.,  39.,  40.,  39.,  37.,  31.,  21.,  21.,  25.,\n",
       "        22.,  25.,  25.,  15.,  27.,  21.,  33.,  17.,  24.,  25.,  21.,\n",
       "        40.,  24.,  39.,  45.,  42.,  58.,  24.,  33.,  26.,  21.,  30.,\n",
       "        24.,  32.,  15.,  23.,  21.,  19.,  21.,  17.,  23.,  54.,  23.,\n",
       "        23.,  48.,  25.,  47.,  13.,  24.,  26.,  19.,  24.,  17.,  19.,\n",
       "        21.,  33.,  41.,  31.,  13.,  45.,  49.,  33.,  21.,  19.,  24.,\n",
       "        15.,  36.,  34.,  23.,  15.,  17.,  13.,  23.,  17.,  24.,  15.,\n",
       "        21.,  23.,  24.,  19.,  30.,  31.,  13.,  17.,  20.,  21.,  31.,\n",
       "        25.,  15.,  38.,  29.,  33.,  23.,  17.,  31.,  22.,  23.,  13.,\n",
       "        19.,  38.,  25.,  27.,  27.,  29.,  26.,  25.,  32.,  21.,  22.,\n",
       "        23.,  23.,  22.,  27.,  13.,  24.,  13.,  28.,  25.,  21.,  35.,\n",
       "        25.,  17.,  33.,  22.,  27.,  21.,  15.,  21.,  15.,  17.,  16.,\n",
       "        25.,  13.,  22.,  15.,  19.,  15.,  17.,  23.,  27.,  15.,  14.,\n",
       "        21.,  25.,  15.,  19.,  17.,  21.,  18.,  23.,  31.,  23.,  17.,\n",
       "        17.,  30.,  19.,  16.,  22.,  30.,  17.,  19.,  23.,  21.,  23.,\n",
       "        17.,  30.,  14.,  16.,  31.,  26.,  31.,  15.,  25.,  28.,  19.,\n",
       "        21.,  13.,  23.,  13.,  22.,  29.,  28.,  13.,  25.,  15.,  30.,\n",
       "        25.,  21.,  19.,  15.,  29.,  13.,  24.,  16.,  24.,  15.,  17.,\n",
       "        21.,  13.,  13.,  22.,  36.,  17.,  19.,  28.,  28.,  15.,  19.,\n",
       "        23.,  16.,  31.,  13.,  21.,  20.,  29.,  14.,  25.,  17.,  13.,\n",
       "        15.,  19.,  13.,  25.,  17.,  21.,  15.,  26.,  21.,  13.,  22.,\n",
       "        29.,  28.,  15.,  21.,  27.,  22.,  13.,  15.,  23.,  33.,  13.,\n",
       "        23.,  18.,  15.,  13.,  13.,  23.,  15.,  15.,  31.,  17.,  17.,\n",
       "        26.,  37.,  37.,  39.,  22.,  29.,  22.,  17.,  15.,  20.,  23.,\n",
       "        27.,  23.,  23.,  15.,  24.,  31.,  13.,  18.,  19.,  15.,  17.,\n",
       "        16.,  15.,  13.,  17.,  13.,  31.,  13.,  14.,  19.,  17.,  13.,\n",
       "        15.,  13.,  19.,  15.,  35.,  33.,  27.,  15.,  19.,  26.,  24.,\n",
       "        33.,  20.,  17.,  27.,  13.,  48.,  15.,  13.,  30.,  14.,  13.,\n",
       "        13.,  19.,  19.,  13.,  16.,  13.,  13.,  14.,  13.,  13.,  13.,\n",
       "        13.,  15.,  17.,  13.,  17.,  32.,  13.,  17.,  65.,  27.,  19.,\n",
       "        61.,  18.,  31.,  13.,  17.,  23.,  15.,  13.,  18.,  32.,  23.,\n",
       "        13.,  15.,  17.,  13.,  21.,  15.,  19.,  13.,  17.,  13.,  21.,\n",
       "        13.,  29.,  27.,  29.,  13.,  17.,  31.,  16.,  17.,  18.,  14.,\n",
       "        32.,  31.,  13.,  31.,  21.,  20.,  41.,  17.,  32.,  13.,  15.,\n",
       "        15.,  19.,  13.,  19.,  19.,  20.,  19.,  15.,  25.,  21.,  34.,\n",
       "        35.,  15.,  31.,  15.,  13.,  13.,  27.,  23.,  13.,  17.,  20.,\n",
       "        29.,  13.,  19.,  15.,  22.,  16.,  15.,  13.,  21.,  13.,  17.,\n",
       "        18.,  15.,  17.,  15.,  15.,  17.,  15.,  27.,  19.,  13.,  15.,\n",
       "        17.,  15.,  13.,  24.,  17.,  13.,  13.,  21.,  20.,  15.,  13.,\n",
       "        14.,  17.,  40.,  13.,  19.,  13.,  13.,  21.,  17.,  13.,  14.,\n",
       "        17.,  13.,  13.,  15.,  16.,  13.,  22.,  14.,  13.,  27.,  13.,\n",
       "        13.,  15.,  14.,  28.,  13.,  13.,  15.,  17.,  21.,  21.,  24.,\n",
       "        13.,  32.,  13.,  15.,  15.,  28.,  17.,  15.,  24.,  14.,  19.,\n",
       "        17.,  25.,  17.,  26.,  15.,  27.,  21.,  16.,  19.,  15.,  21.,\n",
       "        15.,  21.,  17.,  17.,  23.,  22.,  20.,  56.,  25.,  13.,  15.,\n",
       "        23.,  31.,  15.,  17.,  17.,  27.,  13.,  44.,  17.,  13.,  14.,\n",
       "        13.,  18.,  17.,  17.,  25.,  31.,  13.,  51.,  21.,  22.,  23.,\n",
       "        20.,  17.,  27.,  20.,  19.,  24.,  25.,  13.,  15.,  23.,  15.,\n",
       "        13.,  24.,  17.,  21.,  13.,  30.,  13.,  19.,  17.,  30.,  13.,\n",
       "        22.,  13.,  15.,  15.,  24.,  13.,  15.,  17.,  13.,  15.,  18.,\n",
       "        13.,  15.,  13.,  15.,  13.,  13.,  25.,  13.,  13.,  13.,  16.,\n",
       "        26.,  16.,  24.,  28.,  13.,  13.,  18.,  15.,  15.,  25.,  27.,\n",
       "        15.,  19.,  20.,  23.,  15.,  21.,  15.,  16.,  35.,  27.,  21.,\n",
       "        22.,  26.,  13.,  26.,  25.,  17.,  13.,  29.,  15.,  21.,  24.,\n",
       "        21.,  32.,  47.,  19.,  17.,  25.,  32.,  28.,  23.,  23.,  17.,\n",
       "        23.,  23.,  15.,  21.,  27.,  26.,  25.,  15.,  29.,  21.,  28.,\n",
       "        62.,  13.,  25.,  15.,  19.,  21.,  24.,  16.,  23.,  16.,  15.,\n",
       "        15.,  32.,  25.,  15.,  37.,  16.,  17.,  13.,  28.,  21.,  29.,\n",
       "        17.,  13.,  17.,  28.,  23.,  19.,  15.,  27.,  15.,  21.,  27.,\n",
       "        17.,  21.,  15.,  31.,  32.,  32.,  30.,  13.,  29.,  18.,  17.,\n",
       "        23.,  19.,  19.,  31.,  29.,  26.,  28.,  22.,  23.,  31.,  17.,\n",
       "        49.,  25.,  27.,  32.,  50.,  20.,  55.,  27.,  17.,  45.,  21.,\n",
       "        25.,  23.,  15.,  31.,  25.,  30.,  38.,  25.,  15.,  43.,  20.,\n",
       "        19.,  15.,  59.,  23.,  33.,  17.,  49.,  42.,  36.,  53.,  28.,\n",
       "        24.,  38.,  43.,  31.,  51.,  26.,  25.,  36.,  37.,  82.,  28.,\n",
       "        35.,  48.,  26.,  56.,  30.,  22.,  19.,  19., 111.,  27.])"
      ]
     },
     "execution_count": 83,
     "metadata": {},
     "output_type": "execute_result"
    }
   ],
   "source": [
    "timesteps_ep"
   ]
  },
  {
   "cell_type": "code",
   "execution_count": 82,
   "metadata": {},
   "outputs": [
    {
     "data": {
      "image/png": "[encoded data removed]",
      "text/plain": [
       "<Figure size 432x288 with 2 Axes>"
      ]
     },
     "metadata": {
      "needs_background": "light"
     },
     "output_type": "display_data"
    },
    {
     "name": "stdout",
     "output_type": "stream",
     "text": [
      "\n",
      " Matriz de mejor acción-valor (en números): \n",
      "\n",
      " [[ -49.13539535  -49.5946185   -48.41893732  -48.14914328  -47.42552161\n",
      "   -46.5         -45.92082882  -45.09045382  -44.81030077  -44.\n",
      "   -43.33918262  -42.74860256]\n",
      " [ -49.34147447  -49.22711849  -48.73446149  -47.7143308   -47.02074708\n",
      "   -46.71692099  -46.0211865   -45.25187809  -44.91564776  -43.89107346\n",
      "   -42.75426691  -41.96868499]\n",
      " [ -50.11874262  -49.50476221  -48.67008204  -47.94398102  -47.436759\n",
      "   -46.55794838  -45.83699601  -44.85228396  -44.49375278  -43.19267115\n",
      "   -42.26224909   -1.        ]\n",
      " [ -51.07828914 -100.         -100.         -100.         -100.\n",
      "  -100.         -100.         -100.         -100.         -100.\n",
      "  -100.           -1.        ]]\n"
     ]
    }
   ],
   "source": [
    "draw_value_matrix(q)"
   ]
  },
  {
   "cell_type": "markdown",
   "metadata": {},
   "source": [
    "**Ejecutando con distintos híper-parámetros, realizar una breve descripción sobre cómo afectan a la convergencia los distintos valores de $\\alpha$, $\\epsilon$ y $\\gamma$.**\n",
    "\n",
    "Epsilon: Al subir mucho el epsilon me di cuenta como el numero de pasos sube bastante, y el algoritmo explora más por todo los pasos sin tratar nunca de llegar al paso optimo. Si es muy bajo explora muy poco.\n",
    "\n",
    "Gamma: La verdad es que en 0 el algoritmo no trata de buscar opciones que tienen mejor opcion a futuro sino que se es bastante recto. todas las casilla quedan o en -1 o en -100 es como que si siempre estuviera haciendolo aliatorio el numero de pasos no convergen. Y con valores es bajo es bastante similar, cambia muy poco la recompensa por cada paso posible y le cuesta bastante llegar a un numero de pasos bajo. Con valores muy alto le da más importancia a los valores futuros que a los actuales con lo cual no le importa caer en el cliff.\n",
    "\n",
    "\n",
    "\n",
    "Alpha or learning rate:  Mientras más bajo es más le cuesta aprender al algoritmo y mas tiempo le lleva a subir la recompensa. Mientras mas alto más le presta atención a loq ue ya a aprendido y segun lo que yo vi probando con un alpha de 0.9, pareciera que se aprende un camino primero, y despues como que va aprendiendo en los otros caminos poco a poco. Supongo yo que por el epsilon despues empieza a explorar."
   ]
  },
  {
   "cell_type": "code",
   "execution_count": null,
   "metadata": {},
   "outputs": [],
   "source": []
  }
 ],
 "metadata": {
  "kernelspec": {
   "display_name": "Python 3",
   "language": "python",
   "name": "python3"
  },
  "language_info": {
   "codemirror_mode": {
    "name": "ipython",
    "version": 3
   },
   "file_extension": ".py",
   "mimetype": "text/x-python",
   "name": "python",
   "nbconvert_exporter": "python",
   "pygments_lexer": "ipython3",
   "version": "3.6.3"
  }
 },
 "nbformat": 4,
 "nbformat_minor": 2
}
